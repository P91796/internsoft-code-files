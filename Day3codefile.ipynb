{
  "nbformat": 4,
  "nbformat_minor": 0,
  "metadata": {
    "kernelspec": {
      "display_name": "Python 3",
      "language": "python",
      "name": "python3"
    },
    "language_info": {
      "codemirror_mode": {
        "name": "ipython",
        "version": 3
      },
      "file_extension": ".py",
      "mimetype": "text/x-python",
      "name": "python",
      "nbconvert_exporter": "python",
      "pygments_lexer": "ipython3",
      "version": "3.7.6"
    },
    "colab": {
      "name": "Day3codefile.ipynb",
      "provenance": [],
      "include_colab_link": true
    }
  },
  "cells": [
    {
      "cell_type": "markdown",
      "metadata": {
        "id": "view-in-github",
        "colab_type": "text"
      },
      "source": [
        "<a href=\"https://colab.research.google.com/github/P91796/internsoft-code-files/blob/main/Day3codefile.ipynb\" target=\"_parent\"><img src=\"https://colab.research.google.com/assets/colab-badge.svg\" alt=\"Open In Colab\"/></a>"
      ]
    },
    {
      "cell_type": "markdown",
      "metadata": {
        "id": "l5BeGPBS8_Gh"
      },
      "source": [
        "# In this session, we are going to explore other container objects and functions\n",
        "\n",
        "## In this session, we are going to learn the following key topics:\n",
        "*   Tuple\n",
        "*   Set\n",
        "*   Dictionary\n",
        "*   Function\n",
        "*   Lambda\n",
        "*   Iterator\n",
        "*   Generator\n",
        "*   Map\n",
        "*   Reduce\n",
        "*   Filter"
      ]
    },
    {
      "cell_type": "markdown",
      "metadata": {
        "id": "m65HB7CG8_Gl"
      },
      "source": [
        "# Tuples\n",
        "\n",
        "In Python, tuples are similar to lists but they are immutable i.e. they cannot be changed. You would use the tuples to present data that shouldn't be changed, such as days of week or dates on  a calendar.\n",
        "\n",
        "In this section, we will get a brief overview of the following key topics:\n",
        "\n",
        "    1.) Constructing Tuples\n",
        "    2.) Basic Tuple Methods\n",
        "    3.) Immutability\n",
        "    4.) When to Use Tuples\n",
        "\n",
        "You'll have an intuition of how to use tuples based on what you've learned about lists. But, Tuples work very similar to lists but the  major difference is tuples are immutable.\n",
        "\n",
        "## Constructing Tuples\n",
        "\n",
        "The construction of tuples use () with elements separated by commas where in the arguments will be passed within brackets. For example:"
      ]
    },
    {
      "cell_type": "code",
      "metadata": {
        "id": "IJz-evW08_Gn"
      },
      "source": [
        "# Can create a tuple with mixed types\n",
        "t = (1,2,3)"
      ],
      "execution_count": null,
      "outputs": []
    },
    {
      "cell_type": "code",
      "metadata": {
        "id": "dsiO1Dhg8_Gs",
        "outputId": "a98fa784-7b35-47d9-f0e4-a60f96d077ed"
      },
      "source": [
        "# Check len just like a list\n",
        "len(t)"
      ],
      "execution_count": null,
      "outputs": [
        {
          "output_type": "execute_result",
          "data": {
            "text/plain": [
              "3"
            ]
          },
          "metadata": {
            "tags": []
          },
          "execution_count": 4
        }
      ]
    },
    {
      "cell_type": "code",
      "metadata": {
        "id": "M3_75vCV8_G7",
        "outputId": "c91551be-99c3-439e-e02f-5ea3e802080e"
      },
      "source": [
        "# Can also mix object types\n",
        "t = ('one',2)\n",
        "\n",
        "# Show\n",
        "t"
      ],
      "execution_count": null,
      "outputs": [
        {
          "output_type": "execute_result",
          "data": {
            "text/plain": [
              "('one', 2)"
            ]
          },
          "metadata": {
            "tags": []
          },
          "execution_count": 5
        }
      ]
    },
    {
      "cell_type": "code",
      "metadata": {
        "id": "3PsSdQfd8_HB",
        "outputId": "315eaa6d-0cc7-4815-b012-006d593da174"
      },
      "source": [
        "# Use indexing just like we did in lists\n",
        "t[0]"
      ],
      "execution_count": null,
      "outputs": [
        {
          "output_type": "execute_result",
          "data": {
            "text/plain": [
              "'one'"
            ]
          },
          "metadata": {
            "tags": []
          },
          "execution_count": 6
        }
      ]
    },
    {
      "cell_type": "code",
      "metadata": {
        "id": "xfjjIoVy8_HG",
        "outputId": "fde6d0b5-df33-4ef3-bb2c-2290c979cc81"
      },
      "source": [
        "# Slicing just like a list\n",
        "t[-1]"
      ],
      "execution_count": null,
      "outputs": [
        {
          "output_type": "execute_result",
          "data": {
            "text/plain": [
              "2"
            ]
          },
          "metadata": {
            "tags": []
          },
          "execution_count": 7
        }
      ]
    },
    {
      "cell_type": "markdown",
      "metadata": {
        "id": "_roXQvKL8_HL"
      },
      "source": [
        "## Basic Tuple Methods\n",
        "\n",
        "Tuples have built-in methods, but not as many as lists do. Let's see two samples of tuple built-in methods:"
      ]
    },
    {
      "cell_type": "code",
      "metadata": {
        "id": "GAHGriNl8_HM",
        "outputId": "5fa2bc98-f03d-4eb9-a9ac-07cdaf70062d"
      },
      "source": [
        "# Use .index to enter a value and return the index\n",
        "t.index('one')"
      ],
      "execution_count": null,
      "outputs": [
        {
          "output_type": "execute_result",
          "data": {
            "text/plain": [
              "0"
            ]
          },
          "metadata": {
            "tags": []
          },
          "execution_count": 8
        }
      ]
    },
    {
      "cell_type": "code",
      "metadata": {
        "id": "Zuo00pF58_HQ",
        "outputId": "6d8c86e8-c02d-43e7-f651-03bf5bbc15cd"
      },
      "source": [
        "# Use .count to count the number of times a value appears\n",
        "t.count('one')"
      ],
      "execution_count": null,
      "outputs": [
        {
          "output_type": "execute_result",
          "data": {
            "text/plain": [
              "1"
            ]
          },
          "metadata": {
            "tags": []
          },
          "execution_count": 9
        }
      ]
    },
    {
      "cell_type": "markdown",
      "metadata": {
        "id": "1xSnJxg18_HV"
      },
      "source": [
        "## Immutability\n",
        "\n",
        "As tuples are immutable, it can't be stressed enough and add more into it. To drive that point home:"
      ]
    },
    {
      "cell_type": "code",
      "metadata": {
        "id": "E444_rcN8_HW",
        "outputId": "04a4cc7b-7199-4fc6-f98a-c4080a9bf82d"
      },
      "source": [
        "t[0]= 'change'"
      ],
      "execution_count": null,
      "outputs": [
        {
          "output_type": "error",
          "ename": "TypeError",
          "evalue": "'tuple' object does not support item assignment",
          "traceback": [
            "\u001b[0;31m---------------------------------------------------------------------------\u001b[0m",
            "\u001b[0;31mTypeError\u001b[0m                                 Traceback (most recent call last)",
            "\u001b[0;32m<ipython-input-10-1257c0aa9edd>\u001b[0m in \u001b[0;36m<module>\u001b[0;34m\u001b[0m\n\u001b[0;32m----> 1\u001b[0;31m \u001b[0mt\u001b[0m\u001b[0;34m[\u001b[0m\u001b[0;36m0\u001b[0m\u001b[0;34m]\u001b[0m\u001b[0;34m=\u001b[0m \u001b[0;34m'change'\u001b[0m\u001b[0;34m\u001b[0m\u001b[0;34m\u001b[0m\u001b[0m\n\u001b[0m",
            "\u001b[0;31mTypeError\u001b[0m: 'tuple' object does not support item assignment"
          ]
        }
      ]
    },
    {
      "cell_type": "markdown",
      "metadata": {
        "id": "gyunYz5F8_Hj"
      },
      "source": [
        "Because tuple being immutable they can't grow. Once a tuple is made we can not add to it."
      ]
    },
    {
      "cell_type": "code",
      "metadata": {
        "id": "xK0wG-Sl8_Hl",
        "outputId": "8cd88301-6152-4e35-c757-332d8bc546dd"
      },
      "source": [
        "t.append('nope')"
      ],
      "execution_count": null,
      "outputs": [
        {
          "output_type": "error",
          "ename": "AttributeError",
          "evalue": "'tuple' object has no attribute 'append'",
          "traceback": [
            "\u001b[0;31m---------------------------------------------------------------------------\u001b[0m",
            "\u001b[0;31mAttributeError\u001b[0m                            Traceback (most recent call last)",
            "\u001b[0;32m<ipython-input-11-b75f5b09ac19>\u001b[0m in \u001b[0;36m<module>\u001b[0;34m\u001b[0m\n\u001b[0;32m----> 1\u001b[0;31m \u001b[0mt\u001b[0m\u001b[0;34m.\u001b[0m\u001b[0mappend\u001b[0m\u001b[0;34m(\u001b[0m\u001b[0;34m'nope'\u001b[0m\u001b[0;34m)\u001b[0m\u001b[0;34m\u001b[0m\u001b[0;34m\u001b[0m\u001b[0m\n\u001b[0m",
            "\u001b[0;31mAttributeError\u001b[0m: 'tuple' object has no attribute 'append'"
          ]
        }
      ]
    },
    {
      "cell_type": "markdown",
      "metadata": {
        "id": "bsSDvJv58_H-"
      },
      "source": [
        "## When to use Tuples\n",
        "\n",
        "You may be wondering, \"Why to bother using tuples when they have a few available methods?\" \n",
        "\n",
        "Tuples are not used often as lists in programming but are used when immutability is necessary. While you are passing around an object and if you need to make sure that it does not get changed then tuple become your solution. It provides a convenient source of data integrity.\n",
        "\n",
        "You should now be able to create and use tuples in your programming as well as have a complete understanding of their immutability."
      ]
    },
    {
      "cell_type": "markdown",
      "metadata": {
        "id": "BxWHEFwO8_IA"
      },
      "source": [
        "# Sets\n",
        "\n",
        "Sets are an unordered collection of *unique* elements which can be constructed using the set() function. \n",
        "\n",
        "Let's go ahead and create a set to see how it works."
      ]
    },
    {
      "cell_type": "code",
      "metadata": {
        "id": "qU0XRzH68_IC"
      },
      "source": [
        "x = set()"
      ],
      "execution_count": null,
      "outputs": []
    },
    {
      "cell_type": "code",
      "metadata": {
        "id": "EprElJAy8_IM"
      },
      "source": [
        "# We add to sets with the add() method\n",
        "x.add(1)"
      ],
      "execution_count": null,
      "outputs": []
    },
    {
      "cell_type": "code",
      "metadata": {
        "id": "FTP6c0Qd8_IS",
        "outputId": "a6b63847-d9c5-4150-e35e-3d0ede65f086"
      },
      "source": [
        "#Show\n",
        "x"
      ],
      "execution_count": null,
      "outputs": [
        {
          "output_type": "execute_result",
          "data": {
            "text/plain": [
              "{1}"
            ]
          },
          "metadata": {
            "tags": []
          },
          "execution_count": 14
        }
      ]
    },
    {
      "cell_type": "markdown",
      "metadata": {
        "id": "vONPX3mH8_IZ"
      },
      "source": [
        "Note that the curly brackets do not indicate a dictionary! Using only keys, you can draw analogies as a set being a dictionary.\n",
        "\n",
        "We know that a set has an only unique entry. Now, let us see what happens when we try to add something more that is already present in a set?"
      ]
    },
    {
      "cell_type": "code",
      "metadata": {
        "id": "vTYG7Nrf8_Ia"
      },
      "source": [
        "# Add a different element\n",
        "x.add(2)"
      ],
      "execution_count": null,
      "outputs": []
    },
    {
      "cell_type": "code",
      "metadata": {
        "id": "gV6yDTYP8_Ig",
        "outputId": "841823e8-f019-4844-9fbc-abbf647de1a8"
      },
      "source": [
        "#Show\n",
        "x"
      ],
      "execution_count": null,
      "outputs": [
        {
          "output_type": "execute_result",
          "data": {
            "text/plain": [
              "{1, 2}"
            ]
          },
          "metadata": {
            "tags": []
          },
          "execution_count": 16
        }
      ]
    },
    {
      "cell_type": "code",
      "metadata": {
        "id": "Z656Nuul8_JF"
      },
      "source": [
        "# Try to add the same element\n",
        "x.add(1)"
      ],
      "execution_count": null,
      "outputs": []
    },
    {
      "cell_type": "code",
      "metadata": {
        "id": "uPKVvpy88_JL",
        "outputId": "868f9afb-c58f-4341-af86-48a4a267be03"
      },
      "source": [
        "#Show\n",
        "x"
      ],
      "execution_count": null,
      "outputs": [
        {
          "output_type": "execute_result",
          "data": {
            "text/plain": [
              "{1, 2}"
            ]
          },
          "metadata": {
            "tags": []
          },
          "execution_count": 18
        }
      ]
    },
    {
      "cell_type": "markdown",
      "metadata": {
        "id": "_ofZAL488_JS"
      },
      "source": [
        "Notice, how it won't place another 1 there as a set is only concerned with unique elements! However, We can cast a list with multiple repeat elements to a set to get the unique elements. For example:"
      ]
    },
    {
      "cell_type": "code",
      "metadata": {
        "id": "ltw9Tb808_JU"
      },
      "source": [
        "# Create a list with repeats\n",
        "l = [1,1,2,2,3,4,5,6,1,1]"
      ],
      "execution_count": null,
      "outputs": []
    },
    {
      "cell_type": "code",
      "metadata": {
        "id": "fSjSSFk28_Ja",
        "outputId": "bddbcf54-387a-469f-b82d-4f0d8ebeecab"
      },
      "source": [
        "# Cast as set to get unique values\n",
        "set(l)"
      ],
      "execution_count": null,
      "outputs": [
        {
          "output_type": "execute_result",
          "data": {
            "text/plain": [
              "{1, 2, 3, 4, 5, 6}"
            ]
          },
          "metadata": {
            "tags": []
          },
          "execution_count": 21
        }
      ]
    },
    {
      "cell_type": "markdown",
      "metadata": {
        "id": "I0s-7WiU8_Jf"
      },
      "source": [
        "# Dictionaries\n",
        "\n",
        "We have learned about \"Sequences\" in the previous session. Now, let's switch the gears and learn about \"mappings\" in Python. These dictionaries are nothing but hash tables in other programming languages.\n",
        "\n",
        "In this section, we will learn briefly about an introduction to dictionaries and what it consists of:\n",
        "\n",
        "    1.) Constructing a Dictionary\n",
        "    2.) Accessing objects from a Dictionary\n",
        "    3.) Nesting Dictionaries\n",
        "    4.) Basic Dictionary Methods\n",
        "\n",
        "Before we dive deep into this concept, let's understand what are Mappings? \n",
        "\n",
        "Mappings are a collection of objects that are stored by a \"key\". Unlike a sequence, mapping store objects by their relative position. This is an important distinction since mappings won't retain the order since they have objects defined by a key.\n",
        "\n",
        "A Python dictionary consists of a key and then an associated value. That value can be almost any Python object.\n",
        "\n",
        "\n",
        "## Constructing a Dictionary\n",
        "Let's see how we can construct dictionaries to get a better understanding of how they work!"
      ]
    },
    {
      "cell_type": "code",
      "metadata": {
        "id": "6pDTGKF68_Jg"
      },
      "source": [
        "# Make a dictionary with {} and : to signify a key and a value\n",
        "my_dict = {'key1':'value1','key2':'value2'}"
      ],
      "execution_count": null,
      "outputs": []
    },
    {
      "cell_type": "code",
      "metadata": {
        "id": "xJ1lJvr_8_Jl",
        "outputId": "02e6e514-6c68-47b4-d23c-9e108dcd33d5"
      },
      "source": [
        "# Call values by their key\n",
        "my_dict['key2']"
      ],
      "execution_count": null,
      "outputs": [
        {
          "output_type": "execute_result",
          "data": {
            "text/plain": [
              "'value2'"
            ]
          },
          "metadata": {
            "tags": []
          },
          "execution_count": 23
        }
      ]
    },
    {
      "cell_type": "markdown",
      "metadata": {
        "id": "rugm8eLY8_Jt"
      },
      "source": [
        "Note that dictionaries are very flexible in the data types they can hold. For example:"
      ]
    },
    {
      "cell_type": "code",
      "metadata": {
        "id": "lq660q398_KD"
      },
      "source": [
        "my_dict = {'key1':123,'key2':[12,23,33],'key3':['item0','item1','item2']}"
      ],
      "execution_count": null,
      "outputs": []
    },
    {
      "cell_type": "code",
      "metadata": {
        "id": "dvATGoz48_KH",
        "outputId": "4ddd34e0-30f2-466e-ed02-3bde0212b0e5"
      },
      "source": [
        "#Let's call items from the dictionary\n",
        "my_dict['key3']"
      ],
      "execution_count": null,
      "outputs": [
        {
          "output_type": "execute_result",
          "data": {
            "text/plain": [
              "['item0', 'item1', 'item2']"
            ]
          },
          "metadata": {
            "tags": []
          },
          "execution_count": 25
        }
      ]
    },
    {
      "cell_type": "code",
      "metadata": {
        "id": "BSj5Z1gS8_KL",
        "outputId": "8e65420f-267b-4f7c-ee9b-9a708c860643"
      },
      "source": [
        "# Can call an index on that value\n",
        "my_dict['key3'][0]"
      ],
      "execution_count": null,
      "outputs": [
        {
          "output_type": "execute_result",
          "data": {
            "text/plain": [
              "'item0'"
            ]
          },
          "metadata": {
            "tags": []
          },
          "execution_count": 26
        }
      ]
    },
    {
      "cell_type": "code",
      "metadata": {
        "id": "TnUGYTn88_KQ",
        "outputId": "20e49c17-4b33-49c5-9d4a-8a876710b06f"
      },
      "source": [
        "#Can then even call methods on that value\n",
        "my_dict['key3'][0].upper()"
      ],
      "execution_count": null,
      "outputs": [
        {
          "output_type": "execute_result",
          "data": {
            "text/plain": [
              "'ITEM0'"
            ]
          },
          "metadata": {
            "tags": []
          },
          "execution_count": 27
        }
      ]
    },
    {
      "cell_type": "markdown",
      "metadata": {
        "id": "JKNuB4ue8_KU"
      },
      "source": [
        "We can effect the values of a key as well. For instance:"
      ]
    },
    {
      "cell_type": "code",
      "metadata": {
        "id": "h6dHzDeh8_KV",
        "outputId": "e2e3d7ef-14d1-4f2d-fa0b-b880d82f0648"
      },
      "source": [
        "my_dict['key1']"
      ],
      "execution_count": null,
      "outputs": [
        {
          "output_type": "execute_result",
          "data": {
            "text/plain": [
              "123"
            ]
          },
          "metadata": {
            "tags": []
          },
          "execution_count": 28
        }
      ]
    },
    {
      "cell_type": "code",
      "metadata": {
        "id": "iJAfG89T8_Ka"
      },
      "source": [
        "# Subtract 123 from the value\n",
        "my_dict['key1'] = my_dict['key1'] - 123"
      ],
      "execution_count": null,
      "outputs": []
    },
    {
      "cell_type": "code",
      "metadata": {
        "id": "Xp5kRj038_Kf",
        "outputId": "e164c89f-4c8c-43bf-8f72-3884899e4d57"
      },
      "source": [
        "#Check\n",
        "my_dict['key1']"
      ],
      "execution_count": null,
      "outputs": [
        {
          "output_type": "execute_result",
          "data": {
            "text/plain": [
              "0"
            ]
          },
          "metadata": {
            "tags": []
          },
          "execution_count": 30
        }
      ]
    },
    {
      "cell_type": "markdown",
      "metadata": {
        "id": "_iGVjbss8_Ks"
      },
      "source": [
        "\\Note, Python has a built-in method of doing a self subtraction or addition (or multiplication or division). We could also use += or -= for the above statement. For example:"
      ]
    },
    {
      "cell_type": "code",
      "metadata": {
        "id": "47VVwAsh8_Kt",
        "outputId": "d125e0e9-9f75-47c5-d835-0ff49133135d"
      },
      "source": [
        "# Set the object equal to itself minus 123 \n",
        "my_dict['key1'] -= 123\n",
        "my_dict['key1']"
      ],
      "execution_count": null,
      "outputs": [
        {
          "output_type": "execute_result",
          "data": {
            "text/plain": [
              "-123"
            ]
          },
          "metadata": {
            "tags": []
          },
          "execution_count": 31
        }
      ]
    },
    {
      "cell_type": "markdown",
      "metadata": {
        "id": "KptS0Tzr8_Kx"
      },
      "source": [
        "We can also create keys by assignment. For instance if we started off with an empty dictionary, we could continually add to it:"
      ]
    },
    {
      "cell_type": "code",
      "metadata": {
        "id": "8mkU6Hrq8_Ky"
      },
      "source": [
        "# Create a new dictionary\n",
        "d = {}"
      ],
      "execution_count": null,
      "outputs": []
    },
    {
      "cell_type": "code",
      "metadata": {
        "id": "Pxq2qud78_K0"
      },
      "source": [
        "# Create a new key through assignment\n",
        "d['animal'] = 'Dog'"
      ],
      "execution_count": null,
      "outputs": []
    },
    {
      "cell_type": "code",
      "metadata": {
        "id": "2BlgwOV78_K3"
      },
      "source": [
        "# Can do this with any object\n",
        "d['answer'] = 42"
      ],
      "execution_count": null,
      "outputs": []
    },
    {
      "cell_type": "code",
      "metadata": {
        "id": "S3ZO0k0x8_K6",
        "outputId": "70ab4d31-1192-46c8-dead-c850f219edd7"
      },
      "source": [
        "#Show\n",
        "d"
      ],
      "execution_count": null,
      "outputs": [
        {
          "output_type": "execute_result",
          "data": {
            "text/plain": [
              "{'animal': 'Dog', 'answer': 42}"
            ]
          },
          "metadata": {
            "tags": []
          },
          "execution_count": 35
        }
      ]
    },
    {
      "cell_type": "markdown",
      "metadata": {
        "id": "upMcjxmj8_K9"
      },
      "source": [
        "## Nesting with Dictionaries\n",
        "\n",
        "Let's understand how flexible Python is with nesting objects and calling methods on them. let's have a look at the dictionary nested inside a dictionary:"
      ]
    },
    {
      "cell_type": "code",
      "metadata": {
        "id": "NpqEm7kF8_K9"
      },
      "source": [
        "# Dictionary nested inside a dictionary nested in side a dictionary\n",
        "d = {'key1':{'nestkey':{'subnestkey':'value'}}}"
      ],
      "execution_count": null,
      "outputs": []
    },
    {
      "cell_type": "markdown",
      "metadata": {
        "id": "ovh3IsC88_LC"
      },
      "source": [
        "Thats the inception of dictionaries. Now, Let's see how we can grab that value:"
      ]
    },
    {
      "cell_type": "code",
      "metadata": {
        "id": "WVvyfpR_8_LD",
        "outputId": "a07c4def-7d14-4ae3-9fdd-5f47a6bcf8f9"
      },
      "source": [
        "# Keep calling the keys\n",
        "d['key1']['nestkey']['subnestkey']"
      ],
      "execution_count": null,
      "outputs": [
        {
          "output_type": "execute_result",
          "data": {
            "text/plain": [
              "{'subnestkey': 'value'}"
            ]
          },
          "metadata": {
            "tags": []
          },
          "execution_count": 40
        }
      ]
    },
    {
      "cell_type": "markdown",
      "metadata": {
        "id": "16y0C3Z18_LG"
      },
      "source": [
        "## A few Dictionary Methods\n",
        "\n",
        "There are a few methods we can call on a dictionary. Let's get a quick introduction to a few methods:"
      ]
    },
    {
      "cell_type": "code",
      "metadata": {
        "id": "P0qXYzDG8_LH"
      },
      "source": [
        "# Create a typical dictionary\n",
        "d = {'key1':1,'key2':2,'key3':3}"
      ],
      "execution_count": null,
      "outputs": []
    },
    {
      "cell_type": "code",
      "metadata": {
        "id": "ue78wsLS8_LJ",
        "outputId": "78136d53-fd1f-4c45-8569-b89a065573d0"
      },
      "source": [
        "# Method to return a list of all keys \n",
        "d.keys()"
      ],
      "execution_count": null,
      "outputs": [
        {
          "output_type": "execute_result",
          "data": {
            "text/plain": [
              "dict_keys(['key1', 'key2', 'key3'])"
            ]
          },
          "metadata": {
            "tags": []
          },
          "execution_count": 42
        }
      ]
    },
    {
      "cell_type": "code",
      "metadata": {
        "id": "1WnHWOcE8_LM",
        "outputId": "d1e64d6d-c44e-4686-f71c-094cf87ecec3"
      },
      "source": [
        "# Method to grab all values\n",
        "d.values()"
      ],
      "execution_count": null,
      "outputs": [
        {
          "output_type": "execute_result",
          "data": {
            "text/plain": [
              "dict_values([1, 2, 3])"
            ]
          },
          "metadata": {
            "tags": []
          },
          "execution_count": 43
        }
      ]
    },
    {
      "cell_type": "code",
      "metadata": {
        "id": "ygi4ReV18_LP",
        "outputId": "998cceb8-cdc8-4860-9de0-f7fbbca8373e"
      },
      "source": [
        "# Method to return tuples of all items  (we'll learn about tuples soon)\n",
        "d.items()"
      ],
      "execution_count": null,
      "outputs": [
        {
          "output_type": "execute_result",
          "data": {
            "text/plain": [
              "dict_items([('key1', 1), ('key2', 2), ('key3', 3)])"
            ]
          },
          "metadata": {
            "tags": []
          },
          "execution_count": 44
        }
      ]
    },
    {
      "cell_type": "markdown",
      "metadata": {
        "id": "QRMegEWT8_LY"
      },
      "source": [
        ""
      ]
    },
    {
      "cell_type": "markdown",
      "metadata": {
        "id": "pPEr2gI_8_LY"
      },
      "source": [
        "## Dictionary Comprehensions\n",
        "\n",
        "Just like List Comprehensions, Dictionary Data Types also support their own version of comprehension for quick creation. It is not as commonly used as List Comprehensions, but the syntax is:"
      ]
    },
    {
      "cell_type": "code",
      "metadata": {
        "id": "KwIHvxx98_LZ",
        "outputId": "f8c1b0b6-696a-482b-dc5f-5cd3970f54a8"
      },
      "source": [
        "print(list(range(10)))"
      ],
      "execution_count": null,
      "outputs": [
        {
          "output_type": "stream",
          "text": [
            "[0, 1, 2, 3, 4, 5, 6, 7, 8, 9]\n"
          ],
          "name": "stdout"
        }
      ]
    },
    {
      "cell_type": "code",
      "metadata": {
        "id": "iD9RPq0U8_Lc",
        "outputId": "3dad562f-93f5-4b0e-8c80-e54f5b6ed22d"
      },
      "source": [
        "{x:x**2 for x in range(10)}"
      ],
      "execution_count": null,
      "outputs": [
        {
          "output_type": "execute_result",
          "data": {
            "text/plain": [
              "{0: 0, 1: 1, 2: 4, 3: 9, 4: 16, 5: 25, 6: 36, 7: 49, 8: 64, 9: 81}"
            ]
          },
          "metadata": {
            "tags": []
          },
          "execution_count": 48
        }
      ]
    },
    {
      "cell_type": "markdown",
      "metadata": {
        "id": "iCP8Si9Q8_Lj"
      },
      "source": [
        "One of the reasons is the difficulty in structuring the key names that are not based on the values."
      ]
    },
    {
      "cell_type": "markdown",
      "metadata": {
        "id": "ps3iP8hc8_Lk"
      },
      "source": [
        "# Functions\n",
        "\n",
        "## Introduction to Functions\n",
        "\n",
        "What is a function in Python and how to create a function? \n",
        "\n",
        "Functions will be one of our main building blocks when we construct larger and larger amount of code to solve problems.\n",
        "\n",
        "**So what is a function?**\n",
        "\n",
        "A function groups a set of statements together to run the statements more than once. It allows us to specify parameters that can serve as inputs to the functions.\n",
        "\n",
        "Functions allow us to reuse the code instead of writing the code again and again. If you recall strings and lists, remember that len() function is used to find the length of a string. Since checking the length of a sequence is a common task, you would want to write a function that can do this repeatedly at command.\n",
        "\n",
        "Function is one of the most basic levels of reusing code in Python, and it will also allow us to start thinking of program design."
      ]
    },
    {
      "cell_type": "markdown",
      "metadata": {
        "id": "od3UNA_58_Lk"
      },
      "source": [
        "## def Statements\n",
        "\n",
        "Now, let us learn how to build a function and what is the syntax in Python.\n",
        "\n",
        "The syntax for def statements will be in the following form:"
      ]
    },
    {
      "cell_type": "code",
      "metadata": {
        "id": "FGm2qtbd8_Lm"
      },
      "source": [
        "def name_of_function(arg1,arg2):\n",
        "    \n",
        "    '''\n",
        "    This is where the function's Document String (doc-string) goes\n",
        "    '''\n",
        "    # Do stuff here\n",
        "    #return desired result"
      ],
      "execution_count": null,
      "outputs": []
    },
    {
      "cell_type": "markdown",
      "metadata": {
        "id": "j1UGRj3g8_Ls"
      },
      "source": [
        "We begin with def then a space followed by the name of the function. Try to keep names relevant and simple as possible, for example, len() is a good name for a length() function. Also be careful with names, you wouldn't want to call a function the same name as a [built-in function in Python](https://docs.python.org/2/library/functions.html) (such as len).\n",
        "\n",
        "Next, comes the number of arguments separated by a comma within a pair of parenthesis which acts as input to the defined function,  reference them and the function definition with a colon.  \n",
        "\n",
        "Here comes the important step to indent to begin the code inside the defined functions properly. Also remember, Python makes use of *whitespace* to organize code and lot of other programming languages do not do this.\n",
        "\n",
        "Next, you'll see the doc-string where you write the basic description of the function. Using iPython and iPython Notebooks, you'll be able to read these doc-strings by pressing Shift+Tab after a function name. It is not mandatory to include docstrings with simple functions, but it is a good practice to put them as this will help the programmers to easily understand the code you write.\n",
        "\n",
        "After all this, you can begin writing the code you wish to execute.\n",
        "\n",
        "The best way to learn functions is by going through examples. So let's try to analyze and understand examples that relate back to the various objects and data structures we learned."
      ]
    },
    {
      "cell_type": "markdown",
      "metadata": {
        "id": "fv1zIge08_Lt"
      },
      "source": [
        "### Example 1: A simple print 'hello' function"
      ]
    },
    {
      "cell_type": "code",
      "metadata": {
        "id": "ZWPLd6Sl8_Lt"
      },
      "source": [
        "def say_hello():\n",
        "    print('hello')"
      ],
      "execution_count": null,
      "outputs": []
    },
    {
      "cell_type": "markdown",
      "metadata": {
        "id": "9vDq0cyK8_Lw"
      },
      "source": [
        "Call the function"
      ]
    },
    {
      "cell_type": "code",
      "metadata": {
        "id": "3zPzFfff8_Lw",
        "outputId": "6882b69a-7d30-4fe1-93c5-df84514a6243"
      },
      "source": [
        "say_hello()"
      ],
      "execution_count": null,
      "outputs": [
        {
          "output_type": "stream",
          "text": [
            "hello\n"
          ],
          "name": "stdout"
        }
      ]
    },
    {
      "cell_type": "markdown",
      "metadata": {
        "id": "6sUruLeP8_L1"
      },
      "source": [
        "### Example 2: A simple greeting function\n",
        "Let's write a function that greets people with their name."
      ]
    },
    {
      "cell_type": "code",
      "metadata": {
        "id": "B_O2RFAc8_L1"
      },
      "source": [
        "def greeting(name):\n",
        "    print('Hello %s' %name)\n",
        "    print('how are you doing %s'%name)"
      ],
      "execution_count": null,
      "outputs": []
    },
    {
      "cell_type": "code",
      "metadata": {
        "id": "PNB7P6448_L4",
        "outputId": "822cd5d6-0357-46c4-ae46-2b3d031a27cb"
      },
      "source": [
        "greeting('Jose')"
      ],
      "execution_count": null,
      "outputs": [
        {
          "output_type": "stream",
          "text": [
            "Hello Jose\n",
            "how are you doing Jose\n"
          ],
          "name": "stdout"
        }
      ]
    },
    {
      "cell_type": "markdown",
      "metadata": {
        "id": "INe587df8_L-"
      },
      "source": [
        "## Using return\n",
        "Let's see some examples that use a return statement. Return allows a function to \"return\" a result that can then be stored as a variable, or used in whatever manner a user wants.\n",
        "\n",
        "### Example 3: Addition function"
      ]
    },
    {
      "cell_type": "code",
      "metadata": {
        "id": "B-zA1aMm8_L_"
      },
      "source": [
        "def add_num(num1,num2):\n",
        "    return num1+num2"
      ],
      "execution_count": null,
      "outputs": []
    },
    {
      "cell_type": "code",
      "metadata": {
        "id": "I9VAiouM8_MB",
        "outputId": "2afb956d-c5b6-40c0-bc35-c3c8bf50cb0b"
      },
      "source": [
        "add_num(4,5)"
      ],
      "execution_count": null,
      "outputs": [
        {
          "output_type": "execute_result",
          "data": {
            "text/plain": [
              "9"
            ]
          },
          "metadata": {
            "tags": []
          },
          "execution_count": 59
        }
      ]
    },
    {
      "cell_type": "code",
      "metadata": {
        "id": "2qCcRmJB8_MH"
      },
      "source": [
        "# Can also save as variable due to return\n",
        "result = add_num(4,5)"
      ],
      "execution_count": null,
      "outputs": []
    },
    {
      "cell_type": "code",
      "metadata": {
        "id": "pn2wmwWF8_MN",
        "outputId": "a6f50c50-528e-4b2b-9e0e-02c0bfde4ce0"
      },
      "source": [
        "print(result)"
      ],
      "execution_count": null,
      "outputs": [
        {
          "output_type": "stream",
          "text": [
            "9\n"
          ],
          "name": "stdout"
        }
      ]
    },
    {
      "cell_type": "markdown",
      "metadata": {
        "id": "olHpLdYF8_MQ"
      },
      "source": [
        "What happens if we input two strings?"
      ]
    },
    {
      "cell_type": "code",
      "metadata": {
        "id": "nEFx4iMh8_MQ",
        "outputId": "436f06c2-4525-4635-f19c-f882ad106ef1"
      },
      "source": [
        "print(add_num('one\\t','two'))"
      ],
      "execution_count": null,
      "outputs": [
        {
          "output_type": "stream",
          "text": [
            "one\ttwo\n"
          ],
          "name": "stdout"
        }
      ]
    },
    {
      "cell_type": "markdown",
      "metadata": {
        "id": "2krc54fL8_MX"
      },
      "source": [
        "In Python we don't declare variable types, this function could be used to add numbers or sequences together! Going forward, We'll learn about adding in checks to make sure a user puts in the correct arguments into a function.\n",
        "\n",
        "Let's also start using *break*,*continue*, and *pass* statements in our code. We introduced these during the while lecture."
      ]
    },
    {
      "cell_type": "markdown",
      "metadata": {
        "collapsed": true,
        "id": "ZuIrHKYe8_MY"
      },
      "source": [
        "Now, let's see a complete example of creating a function to check if a number is prime (a common interview exercise).\n",
        "\n",
        "We know a number is said to be prime if that number is only divisible by 1 and itself. Let's write our first version of the function to check all the numbers from 1 to N and perform modulo checks."
      ]
    },
    {
      "cell_type": "code",
      "metadata": {
        "id": "lh4dWRmD8_MY"
      },
      "source": [
        "def is_prime(num):\n",
        "    '''\n",
        "    Naive method of checking for primes. \n",
        "    '''\n",
        "    for n in range(2,num):\n",
        "        if num % n == 0:\n",
        "            print('not prime')\n",
        "            break\n",
        "    else: # If never mod zero, then prime\n",
        "        print('prime')"
      ],
      "execution_count": null,
      "outputs": []
    },
    {
      "cell_type": "code",
      "metadata": {
        "id": "Dwma4mXT8_Md",
        "outputId": "e52e45d8-471e-40e4-f8de-afced59187f6"
      },
      "source": [
        "is_prime(11)"
      ],
      "execution_count": null,
      "outputs": [
        {
          "output_type": "stream",
          "text": [
            "not prime\n"
          ],
          "name": "stdout"
        }
      ]
    },
    {
      "cell_type": "markdown",
      "metadata": {
        "id": "88ZVgAJI8_Mg"
      },
      "source": [
        "Note that how we break the code after the print statement! We can actually improve this by only checking to the square root of the target number, also we can disregard all even numbers after checking for 2. We'll also switch to returning a boolean value to get an example of using return statements:"
      ]
    },
    {
      "cell_type": "code",
      "metadata": {
        "id": "yQee1_wW8_Mg"
      },
      "source": [
        "import math\n",
        "\n",
        "def is_prime(num):\n",
        "    '''\n",
        "    A Better method of checking for primes. \n",
        "    '''\n",
        "    if num % 2 == 0 and num > 2: \n",
        "        return False\n",
        "    for i in range(3, int(math.sqrt(num)) + 1, 2):\n",
        "        if num % i == 0:\n",
        "            return False\n",
        "    return True"
      ],
      "execution_count": null,
      "outputs": []
    },
    {
      "cell_type": "code",
      "metadata": {
        "id": "9EFScsgn8_Mi",
        "outputId": "bbd542c5-358e-490d-e4d9-9ff6bd9e97aa"
      },
      "source": [
        ""
      ],
      "execution_count": null,
      "outputs": [
        {
          "output_type": "stream",
          "text": [
            "[3]\n"
          ],
          "name": "stdout"
        }
      ]
    },
    {
      "cell_type": "code",
      "metadata": {
        "id": "Azpxtqmu8_Mn",
        "outputId": "0b82c32e-cd3a-4392-c067-10f5995d4e99"
      },
      "source": [
        "is_prime(11)"
      ],
      "execution_count": null,
      "outputs": [
        {
          "output_type": "execute_result",
          "data": {
            "text/plain": [
              "True"
            ]
          },
          "metadata": {
            "tags": []
          },
          "execution_count": 72
        }
      ]
    },
    {
      "cell_type": "markdown",
      "metadata": {
        "id": "28foR_mH8_Mp"
      },
      "source": [
        "# Iterators and Generators"
      ]
    },
    {
      "cell_type": "markdown",
      "metadata": {
        "id": "6dWWMcae8_Mq"
      },
      "source": [
        "In this section, you will be learning the differences between iterations and generation in Python and also how to construct our own generators with the \"yield\" statement. Generators allow us to generate as we go along instead of storing everything in the memory.\n",
        "\n",
        "We have learned, how to create functions with \"def\" and the \"return\" statement. In Python, Generator function allow us to write a function that can send back a value and then later resume to pick up where it was left. It also allows us to generate a sequence of values over time. The main difference in syntax will be the use of a **yield** statement.\n",
        "\n",
        "In most aspects, a generator function will appear very similar to a normal function. The main difference is when a generator function is called and compiled they become an object that supports an iteration protocol. That means when they are called they don't actually return a value and then exit, the generator functions will automatically suspend and resume their execution and state around the last point of value generation. \n",
        "\n",
        "The main advantage here is \"state suspension\" which means, instead of computing an entire series of values upfront and the generator functions can be suspended. To understand this concept better let's go ahead and learn how to create some generator functions."
      ]
    },
    {
      "cell_type": "code",
      "metadata": {
        "id": "P4fTDPfl8_Mq"
      },
      "source": [
        "# Generator function for the cube of numbers (power of 3)\n",
        "def gencubes(n):\n",
        "    for num in range(n):\n",
        "        yield num**3"
      ],
      "execution_count": null,
      "outputs": []
    },
    {
      "cell_type": "code",
      "metadata": {
        "scrolled": true,
        "id": "QPonPC0d8_Mu",
        "outputId": "94f10aa8-c7b7-4731-fc5a-a1f158c9a5bd"
      },
      "source": [
        "for x in gencubes(6):\n",
        "    print(x)"
      ],
      "execution_count": null,
      "outputs": [
        {
          "output_type": "stream",
          "text": [
            "0\n",
            "1\n",
            "8\n",
            "27\n",
            "64\n",
            "125\n"
          ],
          "name": "stdout"
        }
      ]
    },
    {
      "cell_type": "markdown",
      "metadata": {
        "id": "PTDRULxa8_Mw"
      },
      "source": [
        "Great! since we have a generator function we don't have to keep track of every single cube we created.\n",
        "\n",
        "Generators are the best for calculating large sets of results (particularly in calculations that involve loops themselves) when we don't want to allocate memory for all of the results at the same time. \n",
        "\n",
        "Let's create another sample generator which calculates [fibonacci](https://en.wikipedia.org/wiki/Fibonacci_number) numbers:"
      ]
    },
    {
      "cell_type": "code",
      "metadata": {
        "id": "3BNNOCdY8_Mw"
      },
      "source": [
        "def genfibon(n):\n",
        "    '''\n",
        "    Generate a fibonacci sequence up to n\n",
        "    '''\n",
        "    a = 1\n",
        "    b = 1\n",
        "    for i in range(n):\n",
        "        yield a\n",
        "        a,b = b,a+b"
      ],
      "execution_count": null,
      "outputs": []
    },
    {
      "cell_type": "code",
      "metadata": {
        "id": "RStyyEq08_Mz",
        "outputId": "9a674227-328c-4419-8d78-69685753943e"
      },
      "source": [
        "for num in genfibon(10):\n",
        "    print(num)"
      ],
      "execution_count": null,
      "outputs": [
        {
          "output_type": "stream",
          "text": [
            "1\n",
            "1\n",
            "2\n",
            "3\n",
            "5\n",
            "8\n",
            "13\n",
            "21\n",
            "34\n",
            "55\n"
          ],
          "name": "stdout"
        }
      ]
    },
    {
      "cell_type": "markdown",
      "metadata": {
        "id": "RDQzYn5M8_M4"
      },
      "source": [
        "What if this was a normal function, what would it look like?"
      ]
    },
    {
      "cell_type": "code",
      "metadata": {
        "id": "r6FHjfo58_M5"
      },
      "source": [
        "def fibon(n):\n",
        "    a = 1\n",
        "    b = 1\n",
        "    output = []\n",
        "    \n",
        "    for i in range(n):\n",
        "        output.append(a)\n",
        "        a,b = b,a+b\n",
        "        \n",
        "    return output"
      ],
      "execution_count": null,
      "outputs": []
    },
    {
      "cell_type": "code",
      "metadata": {
        "id": "j4zhkMvN8_M7",
        "outputId": "cb9d3494-6e21-44f1-b488-0b6ddcda48da"
      },
      "source": [
        "fibon(10)"
      ],
      "execution_count": null,
      "outputs": [
        {
          "output_type": "execute_result",
          "data": {
            "text/plain": [
              "[1, 1, 2, 3, 5, 8, 13, 21, 34, 55]"
            ]
          },
          "metadata": {
            "tags": []
          },
          "execution_count": 85
        }
      ]
    },
    {
      "cell_type": "markdown",
      "metadata": {
        "id": "dJn3lxV58_M-"
      },
      "source": [
        "Note, if we call some huge value of \"n\", the second function will have to keep track of every single result. In our case, we only care about the previous result to generate the next one.\n",
        "\n",
        "\n",
        "## next() and iter() built-in functions\n",
        "\n",
        "A key to fully understand generators is the next() and the iter() function.\n",
        "\n",
        "The next function allows us to access the next element in a sequence. Let's check how it works."
      ]
    },
    {
      "cell_type": "code",
      "metadata": {
        "id": "aUTF-kxJ8_M-",
        "outputId": "dfcda4f1-9391-44d8-8362-388e74cb9c81"
      },
      "source": [
        "print(list(range(3)))"
      ],
      "execution_count": null,
      "outputs": [
        {
          "output_type": "stream",
          "text": [
            "[0, 1, 2]\n"
          ],
          "name": "stdout"
        }
      ]
    },
    {
      "cell_type": "code",
      "metadata": {
        "id": "MarqBcmk8_ND"
      },
      "source": [
        "def simple_gen():\n",
        "    for x in range(3):\n",
        "        yield x"
      ],
      "execution_count": null,
      "outputs": []
    },
    {
      "cell_type": "code",
      "metadata": {
        "id": "_VzclnBh8_NF"
      },
      "source": [
        "# Assign simple_gen \n",
        "g = simple_gen()"
      ],
      "execution_count": null,
      "outputs": []
    },
    {
      "cell_type": "code",
      "metadata": {
        "id": "rASSNlJQ8_NO",
        "outputId": "d466c5af-3c6c-490d-95f6-103db6c53087"
      },
      "source": [
        "print(next(g))"
      ],
      "execution_count": null,
      "outputs": [
        {
          "output_type": "stream",
          "text": [
            "0\n"
          ],
          "name": "stdout"
        }
      ]
    },
    {
      "cell_type": "code",
      "metadata": {
        "id": "X-6TiioM8_NQ",
        "outputId": "d92f73af-3a0c-4ffb-e7a1-05137c0e3497"
      },
      "source": [
        "print(next(g))"
      ],
      "execution_count": null,
      "outputs": [
        {
          "output_type": "stream",
          "text": [
            "1\n"
          ],
          "name": "stdout"
        }
      ]
    },
    {
      "cell_type": "code",
      "metadata": {
        "id": "MFCujk7Q8_NT",
        "outputId": "221d6a72-99f6-4ca8-c21d-dddab6422ebd"
      },
      "source": [
        "print(next(g))"
      ],
      "execution_count": null,
      "outputs": [
        {
          "output_type": "stream",
          "text": [
            "2\n"
          ],
          "name": "stdout"
        }
      ]
    },
    {
      "cell_type": "code",
      "metadata": {
        "id": "Xb9AwMk38_NX",
        "outputId": "8cabd1be-d7ca-40a2-d33c-41b7eac4bc32"
      },
      "source": [
        "print(next(g))"
      ],
      "execution_count": null,
      "outputs": [
        {
          "output_type": "error",
          "ename": "StopIteration",
          "evalue": "",
          "traceback": [
            "\u001b[0;31m---------------------------------------------------------------------------\u001b[0m",
            "\u001b[0;31mStopIteration\u001b[0m                             Traceback (most recent call last)",
            "\u001b[0;32m<ipython-input-93-1dfb29d6357e>\u001b[0m in \u001b[0;36m<module>\u001b[0;34m\u001b[0m\n\u001b[0;32m----> 1\u001b[0;31m \u001b[0mprint\u001b[0m\u001b[0;34m(\u001b[0m\u001b[0mnext\u001b[0m\u001b[0;34m(\u001b[0m\u001b[0mg\u001b[0m\u001b[0;34m)\u001b[0m\u001b[0;34m)\u001b[0m\u001b[0;34m\u001b[0m\u001b[0;34m\u001b[0m\u001b[0m\n\u001b[0m",
            "\u001b[0;31mStopIteration\u001b[0m: "
          ]
        }
      ]
    },
    {
      "cell_type": "markdown",
      "metadata": {
        "id": "CRrUQdIg8_Na"
      },
      "source": [
        "After yielding all the values next() caused a StopIteration error. What this error informs us that all the values have been yielded. \n",
        "\n",
        "You might be wondering that why don’t we get this error while using a for loop? The \"for loop\" automatically catches this error and stops calling next. \n",
        "\n",
        "Let's go ahead and check out how to use iter(). You remember that strings are iterable:"
      ]
    },
    {
      "cell_type": "code",
      "metadata": {
        "id": "t9xJlELG8_Nb",
        "outputId": "51b2bd5e-b3f0-4cc1-f7b4-2eb099f2d395"
      },
      "source": [
        "s = 'hello'\n",
        "\n",
        "#Iterate over string\n",
        "for i in s:\n",
        "    print(i)"
      ],
      "execution_count": null,
      "outputs": [
        {
          "output_type": "stream",
          "text": [
            "h\n",
            "e\n",
            "l\n",
            "l\n",
            "o\n"
          ],
          "name": "stdout"
        }
      ]
    },
    {
      "cell_type": "markdown",
      "metadata": {
        "id": "qBBeldkD8_Ng"
      },
      "source": [
        "But that doesn't mean the string itself is an *iterator*! We can check this with the next() function:"
      ]
    },
    {
      "cell_type": "code",
      "metadata": {
        "id": "KptQWXAN8_Nh",
        "outputId": "8bea8375-ea3e-413c-9f63-ba1898f5ce04"
      },
      "source": [
        "next(s)"
      ],
      "execution_count": null,
      "outputs": [
        {
          "output_type": "error",
          "ename": "TypeError",
          "evalue": "'str' object is not an iterator",
          "traceback": [
            "\u001b[0;31m---------------------------------------------------------------------------\u001b[0m",
            "\u001b[0;31mTypeError\u001b[0m                                 Traceback (most recent call last)",
            "\u001b[0;32m<ipython-input-95-61c30b5fe1d5>\u001b[0m in \u001b[0;36m<module>\u001b[0;34m\u001b[0m\n\u001b[0;32m----> 1\u001b[0;31m \u001b[0mnext\u001b[0m\u001b[0;34m(\u001b[0m\u001b[0ms\u001b[0m\u001b[0;34m)\u001b[0m\u001b[0;34m\u001b[0m\u001b[0;34m\u001b[0m\u001b[0m\n\u001b[0m",
            "\u001b[0;31mTypeError\u001b[0m: 'str' object is not an iterator"
          ]
        }
      ]
    },
    {
      "cell_type": "markdown",
      "metadata": {
        "id": "ulof0jBP8_Nk"
      },
      "source": [
        "This means that a string object supports iteration, but we can not directly iterate over it as we could with a generator function. The iter() function allows us to do just that!"
      ]
    },
    {
      "cell_type": "code",
      "metadata": {
        "id": "7M23-t9u8_Nk"
      },
      "source": [
        "s_iter = iter(s)"
      ],
      "execution_count": null,
      "outputs": []
    },
    {
      "cell_type": "code",
      "metadata": {
        "id": "8qejXt_28_No",
        "outputId": "165296f1-4c7e-4ed2-f409-46782ad43960"
      },
      "source": [
        "next(s_iter)"
      ],
      "execution_count": null,
      "outputs": [
        {
          "output_type": "execute_result",
          "data": {
            "text/plain": [
              "'h'"
            ]
          },
          "metadata": {
            "tags": []
          },
          "execution_count": 97
        }
      ]
    },
    {
      "cell_type": "code",
      "metadata": {
        "id": "EC_yVXhR8_Nr",
        "outputId": "b11f0539-be49-489d-e866-ff0472c2808f"
      },
      "source": [
        "next(s_iter)"
      ],
      "execution_count": null,
      "outputs": [
        {
          "output_type": "execute_result",
          "data": {
            "text/plain": [
              "'o'"
            ]
          },
          "metadata": {
            "tags": []
          },
          "execution_count": 101
        }
      ]
    },
    {
      "cell_type": "markdown",
      "metadata": {
        "id": "4h8JnsiM8_Nz"
      },
      "source": [
        "# map()\n",
        "\n",
        "The map() is a function that takes in two arguments: \n",
        "1. A function \n",
        "2. A sequence iterable. \n",
        "\n",
        "In the form: map(function, sequence)\n",
        "    \n",
        "The first argument is the name of a function and the second a sequence (e.g. a list). map() applies the function to all the elements of the sequence. It returns a new list with the elements changed by the function.\n",
        "\n",
        "When we went over list comprehension we created a small expression to convert Fahrenheit to Celsius. Let's do the same here but use map. \n",
        "\n",
        "We'll start with two functions:"
      ]
    },
    {
      "cell_type": "code",
      "metadata": {
        "id": "nzOg6DR58_N0"
      },
      "source": [
        "def fahrenheit(T):\n",
        "    return ((float(9)/5)*T + 32)\n",
        "def celsius(T):\n",
        "    return (float(5)/9)*(T-32)\n",
        "    \n",
        "temp = [0, 22.5, 40,100]"
      ],
      "execution_count": null,
      "outputs": []
    },
    {
      "cell_type": "markdown",
      "metadata": {
        "id": "tCLIUHXa8_N2"
      },
      "source": [
        "Now let's see map() in action:"
      ]
    },
    {
      "cell_type": "code",
      "metadata": {
        "id": "_pHnVAER8_N3",
        "outputId": "11b50cc3-9a57-4876-ea8d-4969c6c1d9f3"
      },
      "source": [
        "F_temps = list(map(fahrenheit, temp))\n",
        "\n",
        "#Show\n",
        "F_temps"
      ],
      "execution_count": null,
      "outputs": [
        {
          "output_type": "execute_result",
          "data": {
            "text/plain": [
              "[32.0, 72.5, 104.0, 212.0]"
            ]
          },
          "metadata": {
            "tags": []
          },
          "execution_count": 103
        }
      ]
    },
    {
      "cell_type": "code",
      "metadata": {
        "id": "djZsWYi68_N_",
        "outputId": "1bd7f649-4047-4f56-eeda-159ecc4e12f9"
      },
      "source": [
        "# Convert back\n",
        "list(map(celsius, F_temps))"
      ],
      "execution_count": null,
      "outputs": [
        {
          "output_type": "stream",
          "text": [
            "[0.0, 22.5, 40.0, 100.0]\n"
          ],
          "name": "stdout"
        }
      ]
    },
    {
      "cell_type": "markdown",
      "metadata": {
        "id": "svcu1kh-8_OF"
      },
      "source": [
        "In the example above, we haven't used a lambda expression. By using lambda, it is not necessary to define and name fahrenheit() and celsius() functions."
      ]
    },
    {
      "cell_type": "code",
      "metadata": {
        "id": "iwnULCcC8_OG",
        "outputId": "7b25a8bd-e6e3-4651-ad27-325310fbbb30"
      },
      "source": [
        "list(map(lambda x: (5.0/9)*(x - 32), F_temps))"
      ],
      "execution_count": null,
      "outputs": [
        {
          "output_type": "execute_result",
          "data": {
            "text/plain": [
              "[0.0, 22.5, 40.0, 100.0]"
            ]
          },
          "metadata": {
            "tags": []
          },
          "execution_count": 108
        }
      ]
    },
    {
      "cell_type": "markdown",
      "metadata": {
        "id": "17y9G6qc8_OJ"
      },
      "source": [
        "Map is more commonly used with lambda expressions since the entire purpose of a map() is to save effort on creating manual for loops."
      ]
    },
    {
      "cell_type": "markdown",
      "metadata": {
        "id": "xfbHlHIH8_OK"
      },
      "source": [
        "map() can be applied to more than one iterable. The iterables must have the same length.\n",
        "\n",
        "For instance, if we are working with two lists-map() will apply its lambda function to the elements of the argument lists, i.e. it first applies to the elements with the 0th index, then to the elements with the 1st index until the nth index is reached.\n",
        "\n",
        "For example, let's map a lambda expression to two lists:"
      ]
    },
    {
      "cell_type": "code",
      "metadata": {
        "id": "7iFl0gbd8_OK",
        "outputId": "5a395217-9de7-41d6-9633-b57c1710d378"
      },
      "source": [
        "a = [1,2,3,4]\n",
        "b = [5,6,7,8]\n",
        "c = [9,10,11,12]\n",
        "\n",
        "list(map(lambda x,y:x+y, a,b))"
      ],
      "execution_count": null,
      "outputs": [
        {
          "output_type": "execute_result",
          "data": {
            "text/plain": [
              "[6, 8, 10, 12]"
            ]
          },
          "metadata": {
            "tags": []
          },
          "execution_count": 109
        }
      ]
    },
    {
      "cell_type": "code",
      "metadata": {
        "id": "TNa7BR0H8_ON",
        "outputId": "5192cdc4-e40b-4d36-e420-e167164d1d5b"
      },
      "source": [
        "# Now all three lists\n",
        "list(map(lambda x,y,z:x+y+z, a,b,c))"
      ],
      "execution_count": null,
      "outputs": [
        {
          "output_type": "execute_result",
          "data": {
            "text/plain": [
              "[15, 18, 21, 24]"
            ]
          },
          "metadata": {
            "tags": []
          },
          "execution_count": 110
        }
      ]
    },
    {
      "cell_type": "markdown",
      "metadata": {
        "id": "KBg3s35J8_OP"
      },
      "source": [
        "In the above example, the parameter 'x' gets its values from the list 'a', while 'y' gets its values from 'b' and 'z' from list 'c'. Go ahead and create your own example to make sure that you completely understand mapping more than one iterable."
      ]
    },
    {
      "cell_type": "markdown",
      "metadata": {
        "id": "6TN00iY98_OP"
      },
      "source": [
        "# reduce()\n",
        "\n",
        "The function reduce(function, sequence) continually applies the function to the sequence. It then returns a single value. \n",
        "\n",
        "If seq = [s1, s2, s3, ... , sn], calling reduce(function, sequence) works like this:\n",
        "\n",
        "* At first the first two elements of sequence will be applied to function, i.e. func(s1,s2) \n",
        "* The list on which reduce() works looks like this: [ function(s1, s2), s3, ... , sn ]\n",
        "* In the next step the function will be applied on the previous result and the third element of the list, i.e. function(function(s1, s2),s3)\n",
        "* The list looks like: [ function(function(s1, s2),s3), ... , sn ]\n",
        "* It continues like this until just one element is left and return this element as the result of reduce()\n",
        "\n",
        "Let's see an example:"
      ]
    },
    {
      "cell_type": "code",
      "metadata": {
        "id": "ljYPk10r8_OQ",
        "outputId": "673675f0-5754-4170-d202-af805c340f50"
      },
      "source": [
        "from functools import reduce\n",
        "lst =[47,11,42,13]\n",
        "reduce(lambda x,y: x+y,lst)"
      ],
      "execution_count": null,
      "outputs": [
        {
          "output_type": "execute_result",
          "data": {
            "text/plain": [
              "113"
            ]
          },
          "metadata": {
            "tags": []
          },
          "execution_count": 117
        }
      ]
    },
    {
      "cell_type": "markdown",
      "metadata": {
        "id": "uy7Wt-hv8_OT"
      },
      "source": [
        "Let's look at a diagram to get a better understanding of what is going on here:"
      ]
    },
    {
      "cell_type": "code",
      "metadata": {
        "id": "AdtdsKNy8_OT",
        "outputId": "3e778855-c0a6-4f57-85de-442fe2942eab"
      },
      "source": [
        "from IPython.display import Image\n",
        "Image('http://www.python-course.eu/images/reduce_diagram.png')"
      ],
      "execution_count": null,
      "outputs": [
        {
          "output_type": "execute_result",
          "data": {
            "image/png": "[encoded data removed]",
            "text/plain": [
              "<IPython.core.display.Image object>"
            ]
          },
          "metadata": {
            "tags": []
          },
          "execution_count": 112
        }
      ]
    },
    {
      "cell_type": "markdown",
      "metadata": {
        "id": "ApBiEKg98_OV"
      },
      "source": [
        "Note how we keep reducing the sequence until a single final value is obtained. Let's see another example:"
      ]
    },
    {
      "cell_type": "code",
      "metadata": {
        "id": "a66-MhEO8_OV"
      },
      "source": [
        "#Find the maximum of a sequence (This already exists as max())\n",
        "max_find = lambda a,b: a if (a > b) else b"
      ],
      "execution_count": null,
      "outputs": []
    },
    {
      "cell_type": "code",
      "metadata": {
        "id": "xhUOcEt18_OX",
        "outputId": "e4605dfd-45d1-466a-9245-0764eb3d70fe"
      },
      "source": [
        "#Find max\n",
        "print(lst)\n",
        "reduce(lambda a,b: a if (a > b) else b,lst)"
      ],
      "execution_count": null,
      "outputs": [
        {
          "output_type": "stream",
          "text": [
            "[47, 11, 42, 13, 58]\n"
          ],
          "name": "stdout"
        },
        {
          "output_type": "execute_result",
          "data": {
            "text/plain": [
              "58"
            ]
          },
          "metadata": {
            "tags": []
          },
          "execution_count": 116
        }
      ]
    },
    {
      "cell_type": "markdown",
      "metadata": {
        "id": "7zLV5tt38_Ob"
      },
      "source": [
        "# filter\n",
        "\n",
        "The function filter(function, list) offers a convenient way to filter out all the elements of an iterable, for which the function returns \"True\". \n",
        "\n",
        "The function filter(function(),l) needs a function as its first argument. The function needs to return a Boolean value (either True or False). This function will be applied to every element of the iterable. Only if the function returns \"True\" will the element of the iterable be included in the result.\n",
        "\n",
        "Let's see some examples:"
      ]
    },
    {
      "cell_type": "code",
      "metadata": {
        "id": "c0Oaqese8_Ob"
      },
      "source": [
        "#First let's make a function\n",
        "def even_check(num):\n",
        "    if num%2 ==0:\n",
        "        return True"
      ],
      "execution_count": null,
      "outputs": []
    },
    {
      "cell_type": "markdown",
      "metadata": {
        "id": "T5NOpDzH8_Od"
      },
      "source": [
        "Now let's filter a list of numbers. Note that putting the function into filter without any parenthesis might feel strange, but keep in mind that functions are objects as well."
      ]
    },
    {
      "cell_type": "code",
      "metadata": {
        "id": "91hN7V6j8_Oe",
        "outputId": "733a1fb2-0f93-4959-a117-3cb7fe4ab69f"
      },
      "source": [
        "lst =range(20)\n",
        "print(list(lst))\n",
        "\n",
        "list(filter(even_check,lst))"
      ],
      "execution_count": null,
      "outputs": [
        {
          "output_type": "stream",
          "text": [
            "[0, 1, 2, 3, 4, 5, 6, 7, 8, 9, 10, 11, 12, 13, 14, 15, 16, 17, 18, 19]\n"
          ],
          "name": "stdout"
        },
        {
          "output_type": "execute_result",
          "data": {
            "text/plain": [
              "[0, 2, 4, 6, 8, 10, 12, 14, 16, 18]"
            ]
          },
          "metadata": {
            "tags": []
          },
          "execution_count": 121
        }
      ]
    },
    {
      "cell_type": "markdown",
      "metadata": {
        "id": "VZQ_vUJu8_Og"
      },
      "source": [
        "filter() is more commonly used with lambda functions, this because we usually use filter for a quick job where we don't want to write an entire function. Let's repeat the example above using a lambda expression:"
      ]
    },
    {
      "cell_type": "code",
      "metadata": {
        "id": "anU1J0lb8_Og",
        "outputId": "8658e3cf-e81c-455f-f8b0-ece62e894106"
      },
      "source": [
        "list(filter(lambda x: x%2==0,lst))"
      ],
      "execution_count": null,
      "outputs": [
        {
          "output_type": "execute_result",
          "data": {
            "text/plain": [
              "[0, 2, 4, 6, 8, 10, 12, 14, 16, 18]"
            ]
          },
          "metadata": {
            "tags": []
          },
          "execution_count": 122
        }
      ]
    },
    {
      "cell_type": "code",
      "metadata": {
        "id": "fuowXaiu8_Oi"
      },
      "source": [
        ""
      ],
      "execution_count": null,
      "outputs": []
    }
  ]
}