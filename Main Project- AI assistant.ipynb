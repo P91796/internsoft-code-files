{
 "cells": [
  {
   "cell_type": "code",
   "execution_count": 1,
   "metadata": {},
   "outputs": [],
   "source": [
    "import os\n",
    "import time\n",
    "import subprocess\n",
    "import json"
   ]
  },
  {
   "cell_type": "code",
   "execution_count": 2,
   "metadata": {},
   "outputs": [],
   "source": [
    "import wolframalpha\n",
    "import requests\n",
    "import webbrowser\n",
    "import wikipedia\n",
    "import datetime"
   ]
  },
  {
   "cell_type": "code",
   "execution_count": 3,
   "metadata": {},
   "outputs": [],
   "source": [
    "import speech_recognition as sr\n",
    "import pyttsx3"
   ]
  },
  {
   "cell_type": "code",
   "execution_count": 11,
   "metadata": {},
   "outputs": [
    {
     "name": "stdout",
     "output_type": "stream",
     "text": [
      "LOADING YOUR AI PERSONAL ASSISTANT JUPITER\n"
     ]
    }
   ],
   "source": [
    "print(\"LOADING YOUR AI PERSONAL ASSISTANT JUPITER\")"
   ]
  },
  {
   "cell_type": "code",
   "execution_count": 5,
   "metadata": {},
   "outputs": [],
   "source": [
    "engine = pyttsx3.init('sapi5')\n",
    "voices = engine.getProperty('voices')\n",
    "engine.setProperty('voice','voices[1].id')"
   ]
  },
  {
   "cell_type": "code",
   "execution_count": 6,
   "metadata": {},
   "outputs": [],
   "source": [
    "def speak(text):\n",
    "    engine.say(text)\n",
    "    engine.runAndWait()"
   ]
  },
  {
   "cell_type": "code",
   "execution_count": 7,
   "metadata": {},
   "outputs": [],
   "source": [
    "def wishMe():\n",
    "    hour = datetime.datetime.now().hour\n",
    "    if hour >= 0 and hour < 12:\n",
    "        speak('HELLO, GOOD MORNING Ms. RISHIKA')\n",
    "        print('HELLO, GOOD MORNING Ms. RISHIKA')\n",
    "        \n",
    "    elif hour >= 12 and hour <= 18:\n",
    "        speak('HELLO, GOOD AFTERNOON Ms. RISHIKA')\n",
    "        print('HELLO, GOOD AFTERNOON Ms. RISHIKA')\n",
    "        \n",
    "    else:\n",
    "        speak(\"IT'S ALREADY NIGHT TIME, BETTER GO TO BED\")\n",
    "        print(\"IT'S ALREADY NIGHT TIME, BETTER GO TO BED\")"
   ]
  },
  {
   "cell_type": "code",
   "execution_count": 8,
   "metadata": {},
   "outputs": [],
   "source": [
    "def takeCommand():\n",
    "    r = sr.Recognizer()\n",
    "    with sr.Microphone() as source:\n",
    "        print(\"I'AM LISTENING\")\n",
    "        audio = r.listen(source)\n",
    "        \n",
    "        try:\n",
    "            statement = r.recognize_google(audio,language='en-in')\n",
    "            print(f\"user.said:{statement}\\n\")\n",
    "            \n",
    "        except Exception as e:\n",
    "            speak('PARDON ME, PLEASE SAY THAT AGAIN')\n",
    "            print('PARDON ME, PLEASE SAY THAT AGAIN')\n",
    "            return \"None\"\n",
    "        return statement"
   ]
  },
  {
   "cell_type": "code",
   "execution_count": 9,
   "metadata": {},
   "outputs": [
    {
     "name": "stdout",
     "output_type": "stream",
     "text": [
      "HELLO, GOOD AFTERNOON Ms. RISHIKA\n"
     ]
    }
   ],
   "source": [
    "speak('LOADING YOUR PERSONAL AI ASSISTANT JUPITER')\n",
    "wishMe()"
   ]
  },
  {
   "cell_type": "code",
   "execution_count": 10,
   "metadata": {},
   "outputs": [
    {
     "name": "stdout",
     "output_type": "stream",
     "text": [
      "I'AM LISTENING\n",
      "user.said:what's the time\n",
      "\n",
      "I'AM LISTENING\n",
      "user.said:can you tell me that who made you\n",
      "\n",
      "I WAS BUILT BY RISHIKA\n",
      "I'AM LISTENING\n",
      "user.said:what can you do Jupiter\n",
      "\n",
      "I'AM LISTENING\n",
      "user.said:can you get me some news\n",
      "\n",
      "I'AM LISTENING\n",
      "user.said:can I ask you something\n",
      "\n",
      "I'AM LISTENING\n",
      "user.said:sin 30\n",
      "\n",
      "1/2\n",
      "I'AM LISTENING\n",
      "user.said:can you tell me who is Steve Jobs according to Wikipedia\n",
      "\n",
      "Steve Jobs is a 2015 British-American biographical drama film directed by Danny Boyle and written by Aaron Sorkin. Adapted from the 2011 biography by Walter Isaacson and interviews conducted by Sorkin, the film covers 14 years (1984–1998) in the life of Apple Inc. co-founder Steve Jobs.\n",
      "I'AM LISTENING\n",
      "user.said:can I ask you something\n",
      "\n",
      "I'AM LISTENING\n",
      "user.said:what is the distance between the Earth and the Sun in kilometres\n",
      "\n",
      "1.506×10^8 km (kilometers)\n",
      "I'AM LISTENING\n",
      "user.said:could you please open YouTube for me\n",
      "\n",
      "I'AM LISTENING\n",
      "user.said:what is the process of photosynthesis according to Wikipedia\n",
      "\n",
      "Terence Kemp McKenna (November 16, 1946 – April 3, 2000) was an American ethnobotanist, mystic, psychonaut, lecturer, author, and an advocate for the responsible use of naturally occurring psychedelic plants. He spoke and wrote about a variety of subjects, including psychedelic drugs, plant-based entheogens, shamanism, metaphysics, alchemy, language, philosophy, culture, technology, environmentalism, and the theoretical origins of human consciousness. He was called the \"Timothy Leary of the '90s\", \"one of the leading authorities on the ontological foundations of shamanism\", and the \"intellectual voice of rave culture\".McKenna formulated a concept about the nature of time based on fractal patterns he claimed to have discovered in the I Ching, which he called novelty theory, proposing this predicted the end of time, and a transition of consciousness in the year 2012.\n",
      "I'AM LISTENING\n",
      "user.said:what is the weather now Jupiter\n",
      "\n",
      "I'AM LISTENING\n",
      "user.said:Bengaluru\n",
      "\n",
      " Temperature in kelvin unit = 300\n",
      " humidity (in percentage) = 74\n",
      " description = broken clouds\n",
      "I'AM LISTENING\n",
      "user.said:could you open Google for me\n",
      "\n",
      "I'AM LISTENING\n",
      "user.said:ok bye Jarvis\n",
      "\n",
      "YOUR PERSONAL AI ASSISTANT JUPITER IS SHUTTING DOWN, GOOD BYE\n"
     ]
    }
   ],
   "source": [
    "if __name__ == '__main__':\n",
    "    \n",
    "    while True:\n",
    "        speak('HOW CAN I HELP YOU ?')\n",
    "        statement = takeCommand().lower()\n",
    "        if statement == 0:\n",
    "            continue\n",
    "            \n",
    "        if \"good bye\" in statement or \"ok bye\" in statement or \"stop\" in statement:\n",
    "            speak(\"YOUR PERSONAL AI ASSISTANT JUPITER IS SHUTTING DOWN, GOOD BYE\")\n",
    "            print(\"YOUR PERSONAL AI ASSISTANT JUPITER IS SHUTTING DOWN, GOOD BYE\")\n",
    "            break\n",
    "            \n",
    "        if \"wikipedia\" in statement:\n",
    "            speak(\"searching wikipedia.....\")\n",
    "            statement = statement.replace(\"wikipedia\", \" \")\n",
    "            results = wikipedia.summary(statement, sentences = 3)\n",
    "            speak(\"According to wikipedia....\")\n",
    "            print(results)\n",
    "            speak(results)\n",
    "            \n",
    "        elif \"open youtube\" in statement:\n",
    "            webbrowser.open_new_tab(\"https://www.youtube.com\")\n",
    "            speak(\"YOUTUBE IS OPENED FOR YOU\")\n",
    "            time.sleep(5)\n",
    "            \n",
    "        elif \"open google\" in statement:\n",
    "            webbrowser.open_new_tab(\"https://www.google.com\")\n",
    "            speak(\"GOOGLE SEARCH IS OPENED FOR YOU\")\n",
    "            time.sleep(5)\n",
    "            \n",
    "        elif \"open gmail\" in statement:\n",
    "            webbrowser.open_new_tab(\"gmail.com\")\n",
    "            speak(\"YOUR GMAIL IS OPENED FOR YOU\")\n",
    "            time.sleep(5)\n",
    "            \n",
    "        elif \"weather\" in statement:\n",
    "            api_key=\"8ef61edcf1c576d65d836254e11ea420\"\n",
    "            base_url=\"https://api.openweathermap.org/data/2.5/weather?\"\n",
    "            speak(\"WHAT IS THE CITY NAME\")\n",
    "            city_name=takeCommand()\n",
    "            complete_url=base_url+\"appid=\"+api_key+\"&q=\"+city_name\n",
    "            response = requests.get(complete_url)\n",
    "            x=response.json()\n",
    "            if x[\"cod\"]!=\"404\":\n",
    "                y=x[\"main\"]\n",
    "                current_temperature = y[\"temp\"]\n",
    "                current_humidiy = y[\"humidity\"]\n",
    "                z = x[\"weather\"]\n",
    "                weather_description = z[0][\"description\"]\n",
    "                speak(\" Temperature in kelvin unit is \" + str(current_temperature) + \n",
    "                      \"\\n humidity in percentage is \" + str(current_humidiy) + \"\\n description  \" + str(weather_description))\n",
    "                print(\" Temperature in kelvin unit = \" + str(current_temperature) +\n",
    "                      \"\\n humidity (in percentage) = \" + str(current_humidiy) + \"\\n description = \" + str(weather_description))\n",
    "            else:\n",
    "                print(\"CITY NOT FOUND\")\n",
    "                speak(\"CITY NOT FOUND\")\n",
    "                \n",
    "        elif \"time\" in statement:\n",
    "            strTime = datetime.datetime.now().strftime(\"%H:%M:%S\")\n",
    "            speak(f\"THE TIME IS {strTime}\")\n",
    "            \n",
    "        elif \"who are you\" in statement or \"what can you do\" in statement:\n",
    "            speak('I am JUPITER version 1 point 0 your personal AI assistant. I am programmed to do minor tasks like,'\n",
    "                   'opening youtube, google chrome, gmail and stack overflow, predict time, take a photo, search wikipedia, predict weather'\n",
    "                   'in different cities, get top headline news from Times of India and you can ask me computational or geograhical too!')\n",
    "                  \n",
    "        elif \"who made you\" in statement or \"who created you\" in statement or \"who discovered you\" in statement:\n",
    "            speak(\"I WAS BUILT BY RISHIKA\")\n",
    "            print(\"I WAS BUILT BY RISHIKA\")\n",
    "                  \n",
    "        elif \"open stack overflow\" in statement:\n",
    "            webbrowser.open_new_tab(\"https://stackoverflow.com/login\")\n",
    "            time.sleep(5)\n",
    "                  \n",
    "        elif \"news\" in statement:\n",
    "            news = webbrowser.open_new_tab(\"https://timesofindia.indiatimes.com/home/headlines\")\n",
    "            speak(\"HERE ARE SOME HEADLINES FOR YOU FROM TIMES OF INDIA, HAPPY READING\")\n",
    "            time.sleep(7)\n",
    "                  \n",
    "        elif \"search\" in statement:\n",
    "            statement = statement.replace(\"search\", \" \")      \n",
    "            webbrowser.open_new_tab(\"statement\")\n",
    "            time.sleep(5)\n",
    "                  \n",
    "        elif \"ask\" in statement:\n",
    "            speak(\"I CAN ANSWER TO COMPUTATIONAL AND GEOGRAPHICAL TOO, JUST TRY ME! WHAT DO YOU WANT TO ASK\")\n",
    "            question = takeCommand()\n",
    "            app_id = \"R2K75H-7ELALHR35X\"\n",
    "            client = wolframalpha.Client('R2K75H-7ELALHR35X')\n",
    "            res = client.query(question)\n",
    "            answer = next(res.results).text\n",
    "            speak(answer)\n",
    "            print(answer)\n",
    "                  \n",
    "        elif \"log off\" in statement or \"shut down\" in statement or \"sign out\" in statement:\n",
    "            speak(\"OK,Your PC will shut down in 10 seconds- ensure that you have saved and exit from all applications\")\n",
    "            subprocess.call(['shut down',\"/l\"])\n",
    "            \n",
    "time.sleep(3)"
   ]
  },
  {
   "cell_type": "code",
   "execution_count": null,
   "metadata": {},
   "outputs": [],
   "source": []
  },
  {
   "cell_type": "code",
   "execution_count": null,
   "metadata": {},
   "outputs": [],
   "source": []
  },
  {
   "cell_type": "code",
   "execution_count": null,
   "metadata": {},
   "outputs": [],
   "source": []
  }
 ],
 "metadata": {
  "kernelspec": {
   "display_name": "Python 3",
   "language": "python",
   "name": "python3"
  },
  "language_info": {
   "codemirror_mode": {
    "name": "ipython",
    "version": 3
   },
   "file_extension": ".py",
   "mimetype": "text/x-python",
   "name": "python",
   "nbconvert_exporter": "python",
   "pygments_lexer": "ipython3",
   "version": "3.8.3"
  }
 },
 "nbformat": 4,
 "nbformat_minor": 4
}
